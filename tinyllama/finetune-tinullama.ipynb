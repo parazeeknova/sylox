{
 "cells": [
  {
   "cell_type": "code",
   "execution_count": null,
   "id": "d3d39c2e-3154-4add-8750-a6c43a9fbc43",
   "metadata": {},
   "outputs": [],
   "source": [
    "import torch\n",
    "from datasets import load_dataset\n",
    "from transformers import TrainingArguments, Trainer, AutoTokenizer\n",
    "from unsloth import FastLanguageModel\n",
    "import os\n",
    "import psutil\n",
    "\n",
    "print(f\"CUDA available: {torch.cuda.is_available()}\")\n",
    "if torch.cuda.is_available():\n",
    "    print(f\"CUDA device count: {torch.cuda.device_count()}\")\n",
    "    print(f\"CUDA device name: {torch.cuda.get_device_name(0)}\")\n",
    "    print(f\"CUDA device properties: {torch.cuda.get_device_properties(0)}\")\n",
    "\n",
    "print(f\"CPU count: {os.cpu_count()}\")\n",
    "print(\n",
    "    f\"Available memory: {psutil.virtual_memory().available / (1024 * 1024 * 1024):.2f} GB\"\n",
    ")\n",
    "\n",
    "BASE_MODEL = (\n",
    "    \"TinyLlama/TinyLlama-1.1B-Chat-v1.0\"\n",
    ")\n",
    "MAX_SEQ_LENGTH = 1024\n",
    "BATCH_SIZE = 2"
   ]
  },
  {
   "cell_type": "code",
   "execution_count": null,
   "id": "c999c8a4-3131-411e-a9aa-1cc1e0d1a88f",
   "metadata": {},
   "outputs": [],
   "source": [
    "ds = load_dataset(\"KodCode/KodCode-V1\", streaming=True)\n",
    "print(f\"Dataset: {ds}\")"
   ]
  },
  {
   "cell_type": "code",
   "execution_count": null,
   "id": "ac340f0d-6a03-48f6-bb5f-a32fc270d283",
   "metadata": {},
   "outputs": [],
   "source": [
    "def format_instruction(example):\n",
    "    return {\n",
    "        \"instruction\": example[\"question\"],\n",
    "        \"input\": \"\",\n",
    "        \"output\": example[\"solution\"],\n",
    "    }"
   ]
  },
  {
   "cell_type": "code",
   "execution_count": null,
   "id": "5de19533-2a63-48d0-8606-31ce66159724",
   "metadata": {},
   "outputs": [],
   "source": [
    "formatted_ds = ds[\"train\"].map(format_instruction)\n",
    "split_ds = formatted_ds.train_test_split(test_size=0.05, seed=42)\n",
    "train_ds = split_ds[\"train\"]\n",
    "val_ds = split_ds[\"test\"]\n",
    "\n",
    "print(f\"Training examples: {len(train_ds)}\")\n",
    "print(f\"Validation examples: {len(val_ds)}\")"
   ]
  },
  {
   "cell_type": "code",
   "execution_count": null,
   "id": "49100235-1e60-4adc-bee2-eeb9ffa243ce",
   "metadata": {},
   "outputs": [],
   "source": [
    "tokenizer = AutoTokenizer.from_pretrained(BASE_MODEL)\n",
    "tokenizer.pad_token = tokenizer.eos_token\n",
    "tokenizer.padding_side = \"right\""
   ]
  },
  {
   "cell_type": "code",
   "execution_count": null,
   "id": "d6af5552-3aaf-461b-9cd1-9b9de387aae6",
   "metadata": {},
   "outputs": [],
   "source": [
    "def tokenize_function(examples):\n",
    "    formatted_texts = [\n",
    "        f\"<s>[INST] {inst} [/INST] {out}</s>\"\n",
    "        for inst, out in zip(examples[\"instruction\"], examples[\"output\"])\n",
    "    ]\n",
    "\n",
    "    tokenized_inputs = tokenizer(\n",
    "        formatted_texts,\n",
    "        truncation=True,\n",
    "        padding=\"max_length\",\n",
    "        max_length=MAX_SEQ_LENGTH,\n",
    "        return_tensors=\"pt\",\n",
    "    )\n",
    "\n",
    "    tokenized_inputs[\"labels\"] = tokenized_inputs[\"input_ids\"].clone()\n",
    "    return tokenized_inputs\n",
    "\n",
    "tokenized_train_ds = train_ds.map(\n",
    "    tokenize_function,\n",
    "    batched=True,\n",
    "    batch_size=100,\n",
    "    remove_columns=train_ds.column_names,\n",
    ")\n",
    "\n",
    "tokenized_val_ds = val_ds.map(\n",
    "    tokenize_function, batched=True, batch_size=100, remove_columns=val_ds.column_names\n",
    ")"
   ]
  },
  {
   "cell_type": "code",
   "execution_count": null,
   "id": "f85016d4-b74c-47a9-898b-0fc35d919ff0",
   "metadata": {},
   "outputs": [],
   "source": [
    "model, _ = FastLanguageModel.from_pretrained(\n",
    "    model_name=BASE_MODEL,\n",
    "    max_seq_length=MAX_SEQ_LENGTH,\n",
    "    dtype=torch.float16,\n",
    "    load_in_4bit=True,\n",
    ")\n",
    "model = FastLanguageModel.get_peft_model(\n",
    "    model,\n",
    "    r=8,\n",
    "    target_modules=[\n",
    "        \"q_proj\",\n",
    "        \"k_proj\",\n",
    "        \"v_proj\",\n",
    "        \"o_proj\",\n",
    "        \"gate_proj\",\n",
    "        \"up_proj\",\n",
    "        \"down_proj\",\n",
    "    ],\n",
    "    lora_alpha=16,\n",
    "    lora_dropout=0.05,\n",
    ")"
   ]
  },
  {
   "cell_type": "code",
   "execution_count": null,
   "id": "bd9cebd4-1626-415e-9dc1-7e2282a1d0d1",
   "metadata": {},
   "outputs": [],
   "source": [
    "# Print model parameters to verify configuration\n",
    "trainable_params = sum(p.numel() for p in model.parameters() if p.requires_grad)\n",
    "total_params = sum(p.numel() for p in model.parameters())\n",
    "print(f\"Trainable parameters: {trainable_params:,}\")\n",
    "print(f\"Total parameters: {total_params:,}\")\n",
    "print(f\"Percentage of trainable parameters: {trainable_params/total_params*100:.2f}%\")"
   ]
  },
  {
   "cell_type": "code",
   "execution_count": null,
   "id": "7a2ff0e4-7046-4a3c-afb1-3e077bf31839",
   "metadata": {},
   "outputs": [],
   "source": [
    "# Configure training with optimized settings\n",
    "training_args = TrainingArguments(\n",
    "    output_dir=\"./kodcode_llama_model\",\n",
    "    num_train_epochs=1,\n",
    "    per_device_train_batch_size=BATCH_SIZE,\n",
    "    per_device_eval_batch_size=BATCH_SIZE,\n",
    "    gradient_accumulation_steps=2,\n",
    "    evaluation_strategy=\"steps\",\n",
    "    eval_steps=500,\n",
    "    logging_steps=100,\n",
    "    save_strategy=\"steps\",\n",
    "    save_steps=500,\n",
    "    learning_rate=2e-4,\n",
    "    weight_decay=0.01,\n",
    "    lr_scheduler_type=\"cosine\",\n",
    "    warmup_ratio=0.03,\n",
    "    optim=\"adamw_torch\",\n",
    "    gradient_checkpointing=True,\n",
    "    fp16=True,\n",
    "    bf16=False,\n",
    "    report_to=\"tensorboard\",\n",
    "    # Additional settings for efficiency\n",
    "    no_cuda=not torch.cuda.is_available(),\n",
    "    dataloader_num_workers=4,\n",
    "    dataloader_pin_memory=True,\n",
    "    torch_compile=False,\n",
    ")"
   ]
  },
  {
   "cell_type": "code",
   "execution_count": null,
   "id": "4a5d6d87-b684-4a36-9069-6872b8ac1adb",
   "metadata": {},
   "outputs": [],
   "source": [
    "trainer = Trainer(\n",
    "    model=model,\n",
    "    args=training_args,\n",
    "    train_dataset=tokenized_train_ds,\n",
    "    eval_dataset=tokenized_val_ds,\n",
    ")\n",
    "\n",
    "if torch.cuda.is_available():\n",
    "    print(\n",
    "        f\"GPU memory allocated before training: {torch.cuda.memory_allocated(0) / 1024**3:.2f} GB\"\n",
    "    )\n",
    "    print(\n",
    "        f\"GPU memory reserved before training: {torch.cuda.memory_reserved(0) / 1024**3:.2f} GB\"\n",
    "    )\n",
    "\n",
    "print(\"Starting training...\")\n",
    "trainer.train()"
   ]
  },
  {
   "cell_type": "code",
   "execution_count": null,
   "id": "a3b6ec8e-8bd1-4984-88ad-178b9e6ab693",
   "metadata": {},
   "outputs": [],
   "source": [
    "model_save_path = \"./kodcode_llama_model_final\"\n",
    "trainer.save_model(model_save_path)\n",
    "print(f\"Model saved to {model_save_path}\")\n",
    "\n",
    "if torch.cuda.is_available():\n",
    "    print(\n",
    "        f\"Final GPU memory allocated: {torch.cuda.memory_allocated(0) / 1024**3:.2f} GB\"\n",
    "    )\n",
    "    print(\n",
    "        f\"Final GPU memory reserved: {torch.cuda.memory_reserved(0) / 1024**3:.2f} GB\"\n",
    "    )\n",
    "\n",
    "print(\"Training complete!\")"
   ]
  }
 ],
 "metadata": {
  "kernelspec": {
   "display_name": "Python 3 (ipykernel)",
   "language": "python",
   "name": "python3"
  },
  "language_info": {
   "codemirror_mode": {
    "name": "ipython",
    "version": 3
   },
   "file_extension": ".py",
   "mimetype": "text/x-python",
   "name": "python",
   "nbconvert_exporter": "python",
   "pygments_lexer": "ipython3",
   "version": "3.12.7"
  }
 },
 "nbformat": 4,
 "nbformat_minor": 5
}
